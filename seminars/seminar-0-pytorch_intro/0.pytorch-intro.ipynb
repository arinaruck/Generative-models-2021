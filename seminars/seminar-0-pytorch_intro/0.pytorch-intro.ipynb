{
 "cells": [
  {
   "cell_type": "markdown",
   "metadata": {},
   "source": [
    "# Pytorch"
   ]
  },
  {
   "cell_type": "markdown",
   "metadata": {},
   "source": [
    "Мы будем работать с pytorch версии 1.4 и выше, поэтому не забудьте это проверить"
   ]
  },
  {
   "cell_type": "code",
   "execution_count": 6,
   "metadata": {
    "colab": {},
    "colab_type": "code",
    "id": "jDDd8zvPY8w_"
   },
   "outputs": [],
   "source": [
    "import torch\n",
    "import numpy as np\n",
    "\n",
    "import matplotlib.pyplot as plt\n",
    "%matplotlib inline"
   ]
  },
  {
   "cell_type": "markdown",
   "metadata": {},
   "source": [
    "Начнем с небольшого сравнения с numpy"
   ]
  },
  {
   "cell_type": "code",
   "execution_count": 7,
   "metadata": {},
   "outputs": [
    {
     "name": "stdout",
     "output_type": "stream",
     "text": [
      "numpy array \n",
      " [[1 2 3]\n",
      " [3 2 1]]\n",
      "torch tensor \n",
      " tensor([[1., 2., 3.],\n",
      "        [3., 2., 1.]])\n",
      "numpy array from torch tensor \n",
      " [[1. 2. 3.]\n",
      " [3. 2. 1.]]\n"
     ]
    }
   ],
   "source": [
    "# Можем переносить np.array в torch.Tensor и обратно\n",
    "# Следите за типами данных\n",
    "\n",
    "np_arr = np.array([[1, 2, 3], [3, 2, 1]])\n",
    "torch_tensor = torch.Tensor(np_arr)\n",
    "\n",
    "print('numpy array \\n', np_arr)\n",
    "print('torch tensor \\n', torch_tensor)\n",
    "print('numpy array from torch tensor \\n', torch_tensor.numpy())"
   ]
  },
  {
   "cell_type": "code",
   "execution_count": 8,
   "metadata": {},
   "outputs": [
    {
     "name": "stdout",
     "output_type": "stream",
     "text": [
      "[[ 0  1  2  3  4]\n",
      " [ 5  6  7  8  9]\n",
      " [10 11 12 13 14]\n",
      " [15 16 17 18 19]\n",
      " [20 21 22 23 24]]\n",
      "tensor([[ 0,  1,  2,  3,  4],\n",
      "        [ 5,  6,  7,  8,  9],\n",
      "        [10, 11, 12, 13, 14],\n",
      "        [15, 16, 17, 18, 19],\n",
      "        [20, 21, 22, 23, 24]])\n"
     ]
    }
   ],
   "source": [
    "# Базовые операции одинаковые как в numpy, так и в torch\n",
    "\n",
    "np_arr = np.arange(25).reshape(5, 5)\n",
    "torch_tensor = torch.arange(25).view(5, 5)\n",
    "print(np_arr)\n",
    "print(torch_tensor)\n"
   ]
  },
  {
   "cell_type": "code",
   "execution_count": 9,
   "metadata": {},
   "outputs": [
    {
     "name": "stdout",
     "output_type": "stream",
     "text": [
      "[[  30   80  130  180  230]\n",
      " [  80  255  430  605  780]\n",
      " [ 130  430  730 1030 1330]\n",
      " [ 180  605 1030 1455 1880]\n",
      " [ 230  780 1330 1880 2430]]\n",
      "tensor([[  30,   80,  130,  180,  230],\n",
      "        [  80,  255,  430,  605,  780],\n",
      "        [ 130,  430,  730, 1030, 1330],\n",
      "        [ 180,  605, 1030, 1455, 1880],\n",
      "        [ 230,  780, 1330, 1880, 2430]])\n"
     ]
    }
   ],
   "source": [
    "# Умножение\n",
    "\n",
    "print(np.dot(np_arr, np_arr.T))\n",
    "print(torch.matmul(torch_tensor, torch_tensor.permute(1, 0)))\n",
    "\n",
    "# В torch нет удобного .T, поэтому приходится использовать .permute(1, 0), который меняет местами 0 и 1 axis"
   ]
  },
  {
   "cell_type": "code",
   "execution_count": 10,
   "metadata": {},
   "outputs": [
    {
     "name": "stdout",
     "output_type": "stream",
     "text": [
      "[ 2.  7. 12. 17. 22.]\n",
      "tensor([ 2.,  7., 12., 17., 22.])\n"
     ]
    }
   ],
   "source": [
    "# Среднее \n",
    "\n",
    "print(np.mean(np_arr, axis=1))\n",
    "print(torch.mean(torch_tensor.float(), dim=1))\n",
    "\n",
    "# Переводим во float потому что наш torch_tensor Long, а по такому типу torch отказывается считать среднее\n"
   ]
  },
  {
   "cell_type": "code",
   "execution_count": 11,
   "metadata": {},
   "outputs": [
    {
     "name": "stdout",
     "output_type": "stream",
     "text": [
      "[ 4  9 14 19 24]\n",
      "torch.return_types.max(\n",
      "values=tensor([ 4,  9, 14, 19, 24]),\n",
      "indices=tensor([4, 4, 4, 4, 4]))\n"
     ]
    }
   ],
   "source": [
    "# Максимум\n",
    "\n",
    "print(np.max(np_arr, axis=1))\n",
    "print(torch.max(torch_tensor, dim=1))\n",
    "\n",
    "# Здесь заметьте, что torch.max выдает не просто максимумы, а еще и индексы максимумов\n"
   ]
  },
  {
   "cell_type": "markdown",
   "metadata": {
    "colab_type": "text",
    "id": "lxJiOWdJY8xW"
   },
   "source": [
    "## NumPy vs Pytorch\n",
    "\n",
    "```\n",
    "x.reshape([1,2,8]) -> x.view(1,2,8)\n",
    "x.sum(axis=-1) -> x.sum(dim=-1)\n",
    "```\n",
    "\n",
    "конвертация \n",
    "\n",
    "```\n",
    "torch.from_numpy(x) -- вернет Tensor\n",
    "x.numpy() -- вернет Numpy Array\n",
    "```\n",
    "\n",
    "Если тензор состоит из одного числа, то его можно достать и превратить в обычное питоновское:\n",
    "\n",
    "```\n",
    "torch.tensor([[[1]]]).item() -> 1\n",
    "```\n"
   ]
  },
  {
   "cell_type": "markdown",
   "metadata": {},
   "source": [
    "#### Задача\n",
    "\n",
    "Посчитать $sin^2 (x) + cos^2 (x)$ и нарисовать график $sin(x)$ и $cos(x)$"
   ]
  },
  {
   "cell_type": "code",
   "execution_count": 12,
   "metadata": {
    "colab": {},
    "colab_type": "code",
    "id": "kWKDglA_Y8xX"
   },
   "outputs": [],
   "source": [
    "x = torch.linspace(0, 2 * np.pi, 16, dtype=torch.float64)\n",
    "\n",
    "# result = YOUR CODE"
   ]
  },
  {
   "cell_type": "code",
   "execution_count": 10,
   "metadata": {},
   "outputs": [],
   "source": [
    "import matplotlib.pyplot as plt\n",
    "%matplotlib inline\n",
    "\n",
    "# YOUR CODE\n",
    "\n",
    "plt.show()"
   ]
  },
  {
   "cell_type": "markdown",
   "metadata": {
    "colab_type": "text",
    "id": "WvBccGm8Y8xh"
   },
   "source": [
    "# Automatic gradients\n",
    "\n",
    "У каждого тензора в Pytorch есть флаг `requires_grad`, который отвечает за автоматическое вычисление градиентов:\n",
    "\n",
    "1. Создать переменную: `a = torch.tensor(..., requires_grad=True)`\n",
    "\n",
    "2. Определить какую-нибудь дифференцируемую функцию `loss = whatever(a)`\n",
    "\n",
    "3. Запросить обратный проход `loss.backward()`\n",
    "\n",
    "4. Градиенты будут доступны в `a.grads`\n",
    "\n",
    "\n",
    "Есть два важных отличия Pytorch от TF/Keras:\n",
    "\n",
    "1. Функцию ошибки можно изменять динамически, например на каждом минибатче.\n",
    "\n",
    "2. После вычисления `.backward()` градиенты сохраняются в `.grad` каждой задействованной переменной, при повторных вызовах градиенты суммируются. Это позволяет использовать несколько функций ошибок или виртуально увеличивать batch_size. Поэтому, после каждого шага оптимизатора градиенты стоит обнулять.\n"
   ]
  },
  {
   "cell_type": "code",
   "execution_count": 11,
   "metadata": {
    "colab": {},
    "colab_type": "code",
    "id": "UCMFdtG1kbKo"
   },
   "outputs": [
    {
     "ename": "RuntimeError",
     "evalue": "Only Tensors of floating point dtype can require gradients",
     "output_type": "error",
     "traceback": [
      "\u001b[0;31m---------------------------------------------------------------------------\u001b[0m",
      "\u001b[0;31mRuntimeError\u001b[0m                              Traceback (most recent call last)",
      "\u001b[0;32m<ipython-input-11-ca3d8f1b648d>\u001b[0m in \u001b[0;36m<module>\u001b[0;34m\u001b[0m\n\u001b[1;32m      1\u001b[0m \u001b[0;31m# Обратите внимание, что вычисление градиентов работает только для тензоров с вещественным типом данных:\u001b[0m\u001b[0;34m\u001b[0m\u001b[0;34m\u001b[0m\u001b[0;34m\u001b[0m\u001b[0m\n\u001b[0;32m----> 2\u001b[0;31m \u001b[0mx\u001b[0m \u001b[0;34m=\u001b[0m \u001b[0mtorch\u001b[0m\u001b[0;34m.\u001b[0m\u001b[0mtensor\u001b[0m\u001b[0;34m(\u001b[0m\u001b[0;34m[\u001b[0m\u001b[0;36m1\u001b[0m\u001b[0;34m,\u001b[0m \u001b[0;36m2\u001b[0m\u001b[0;34m,\u001b[0m \u001b[0;36m3\u001b[0m\u001b[0;34m,\u001b[0m \u001b[0;36m4\u001b[0m\u001b[0;34m]\u001b[0m\u001b[0;34m,\u001b[0m \u001b[0mrequires_grad\u001b[0m\u001b[0;34m=\u001b[0m\u001b[0;32mTrue\u001b[0m\u001b[0;34m)\u001b[0m\u001b[0;34m\u001b[0m\u001b[0;34m\u001b[0m\u001b[0m\n\u001b[0m",
      "\u001b[0;31mRuntimeError\u001b[0m: Only Tensors of floating point dtype can require gradients"
     ]
    }
   ],
   "source": [
    "# Обратите внимание, что вычисление градиентов работает только для тензоров с вещественным типом данных:\n",
    "x = torch.tensor([1, 2, 3, 4], requires_grad=True)"
   ]
  },
  {
   "cell_type": "code",
   "execution_count": 12,
   "metadata": {},
   "outputs": [],
   "source": [
    "# Обратите внимание, что вычисление градиентов работает только для тензоров с вещественным типом данных:\n",
    "x = torch.tensor([1., 2., 3., 4.], requires_grad=True)"
   ]
  },
  {
   "cell_type": "markdown",
   "metadata": {
    "colab_type": "text",
    "id": "1zIjcCUJ1T1V"
   },
   "source": [
    "\n",
    "Чтобы выставить флаг `requires_grad=False` и выключить автоматическое вычисление градиентов для нескольких тензоров, можно использовать `with torch.no_grad()` или `detach`:"
   ]
  },
  {
   "cell_type": "code",
   "execution_count": 13,
   "metadata": {
    "colab": {},
    "colab_type": "code",
    "id": "1JQjCVpb1Uy1"
   },
   "outputs": [
    {
     "name": "stdout",
     "output_type": "stream",
     "text": [
      "x.requires_grad True\n",
      "y.requires_grad True\n",
      "torch.no_grad(), z.requires_grad False\n",
      ".detach(), w.requires_grad False\n"
     ]
    }
   ],
   "source": [
    "x = torch.tensor([1.], requires_grad=True)\n",
    "y = x**2\n",
    "print('x.requires_grad', x.requires_grad)\n",
    "print('y.requires_grad', y.requires_grad)\n",
    "\n",
    "with torch.no_grad():\n",
    "    z = torch.exp(x)\n",
    "    print('torch.no_grad(), z.requires_grad', z.requires_grad)\n",
    "    \n",
    "# detach from the graph\n",
    "w = torch.log(x).detach()\n",
    "print('.detach(), w.requires_grad', w.requires_grad)"
   ]
  },
  {
   "cell_type": "markdown",
   "metadata": {
    "colab_type": "text",
    "id": "-NHwzSqakbUt"
   },
   "source": [
    "### Пример\n",
    "\n",
    "Рассмотрим пример линейной регрессии на датасете Boston. Будем предсказывать цену дома только по последнему признаку"
   ]
  },
  {
   "cell_type": "code",
   "execution_count": 14,
   "metadata": {},
   "outputs": [
    {
     "data": {
      "text/plain": [
       "<matplotlib.collections.PathCollection at 0x7f752efc83c8>"
      ]
     },
     "execution_count": 14,
     "metadata": {},
     "output_type": "execute_result"
    },
    {
     "data": {
      "image/png": "[encoded data removed]",
      "text/plain": [
       "<Figure size 432x288 with 1 Axes>"
      ]
     },
     "metadata": {
      "needs_background": "light"
     },
     "output_type": "display_data"
    }
   ],
   "source": [
    "from sklearn.datasets import load_boston\n",
    "\n",
    "x, y = load_boston(return_X_y=True)\n",
    "x = x[:, -1]\n",
    "\n",
    "plt.scatter(x, y)"
   ]
  },
  {
   "cell_type": "markdown",
   "metadata": {},
   "source": [
    "##### Задача:\n",
    "\n",
    "Стандартизируйте x и y. (сначала вычтите среднее, а потом разделите на std)"
   ]
  },
  {
   "cell_type": "code",
   "execution_count": 15,
   "metadata": {},
   "outputs": [
    {
     "data": {
      "text/plain": [
       "<matplotlib.collections.PathCollection at 0x7f752eeddd68>"
      ]
     },
     "execution_count": 15,
     "metadata": {},
     "output_type": "execute_result"
    },
    {
     "data": {
      "image/png": "[encoded data removed]",
      "text/plain": [
       "<Figure size 432x288 with 1 Axes>"
      ]
     },
     "metadata": {
      "needs_background": "light"
     },
     "output_type": "display_data"
    }
   ],
   "source": [
    "# Разделим x и y на их std, чтобы было проще\n",
    "\n",
    "# x = (x - x.mean())/x.std()\n",
    "# y = (y - y.mean())/y.std()\n",
    "\n",
    "# x = YOUR CODE\n",
    "# x = YOUR CODE\n",
    "\n",
    "plt.scatter(x, y)"
   ]
  },
  {
   "cell_type": "code",
   "execution_count": 16,
   "metadata": {
    "colab": {},
    "colab_type": "code",
    "id": "iqXtxfdjY8xr"
   },
   "outputs": [
    {
     "name": "stdout",
     "output_type": "stream",
     "text": [
      "True True\n",
      "True True\n",
      "True False\n",
      "True False\n"
     ]
    }
   ],
   "source": [
    "# Определим веса нашей регрессии\n",
    "\n",
    "w = torch.zeros(1, requires_grad=True)\n",
    "b = torch.zeros(1, requires_grad=True)\n",
    "\n",
    "# Обернем наши данные в torch tensor\n",
    "x = torch.from_numpy(x).float()\n",
    "y = torch.from_numpy(y).float()\n",
    "\n",
    "# Видно что x и y не требуют вычисления градиентов. \n",
    "# Логично, потому что мы бы не хотели менять данные, чтобы уменьшить ошибку\n",
    "for vec in [w, b, x, y]:\n",
    "    print(vec.is_leaf, vec.requires_grad)\n",
    "    "
   ]
  },
  {
   "cell_type": "markdown",
   "metadata": {},
   "source": [
    "#### Задача: \n",
    "\n",
    "Постройте регрессию. Напишите функцию, которая считает MSE.\n",
    "\n",
    "У вас есть:\n",
    "1. вес признака - w\n",
    "2. bias - b\n",
    "3. значения признака - x\n",
    "4. таргет - y"
   ]
  },
  {
   "cell_type": "code",
   "execution_count": 18,
   "metadata": {
    "colab": {},
    "colab_type": "code",
    "id": "KxTI1pQhY8x2",
    "scrolled": true
   },
   "outputs": [],
   "source": [
    "y_pred = w * x + b\n",
    "\n",
    "def MSE(y_pred, y):\n",
    "    return torch.mean((y_pred - y)**2)\n",
    "\n",
    "\n",
    "mse = MSE(y_pred, y)\n",
    "\n",
    "# Когда мы делаем .backward(), в параметрах нашей модели появляется атрибут .grad\n",
    "\n",
    "print(\"dL/dw = \\n\", w.grad)\n",
    "print(\"dL/db = \\n\", b.grad)\n",
    "\n",
    "# В тензорах с requires_grad=False .grad так и остался None\n",
    "\n",
    "print(\"Non-Leaf x dL/dx = \\n\", x.grad)\n",
    "print(\"Non-Leaf loss dL/dpred = \\n\", y_pred.grad)"
   ]
  },
  {
   "cell_type": "markdown",
   "metadata": {
    "colab_type": "text",
    "id": "5qSGyePQY8x-"
   },
   "source": [
    "# Линейная регрессия"
   ]
  },
  {
   "cell_type": "code",
   "execution_count": 21,
   "metadata": {
    "colab": {},
    "colab_type": "code",
    "id": "mj_-PaVzY8yA"
   },
   "outputs": [
    {
     "data": {
      "image/png": "[encoded data removed]",
      "text/plain": [
       "<Figure size 432x288 with 1 Axes>"
      ]
     },
     "metadata": {
      "needs_background": "light"
     },
     "output_type": "display_data"
    },
    {
     "name": "stdout",
     "output_type": "stream",
     "text": [
      "loss =  0.4621272385120392\n",
      "Done!\n"
     ]
    },
    {
     "name": "stderr",
     "output_type": "stream",
     "text": [
      "\n"
     ]
    }
   ],
   "source": [
    "from IPython.display import clear_output\n",
    "import tqdm\n",
    "\n",
    "w = torch.zeros(1, requires_grad=True)\n",
    "b = torch.zeros(1, requires_grad=True)\n",
    "\n",
    "for i in tqdm.tqdm(range(200)):\n",
    "    \n",
    "    y_pred = w * x  + b\n",
    "    loss = MSE(y_pred, y)\n",
    "    \n",
    "    loss.backward()\n",
    "    \n",
    "    # Делаем градиентный шаг для параметров модели\n",
    "\n",
    "    learning_rate = 0.1\n",
    "    w.data = w.data - w.grad * learning_rate\n",
    "    b.data = b.data - b.grad * learning_rate\n",
    "    \n",
    "    # Не забываем обнулить градиенты\n",
    "    w.grad.zero_()\n",
    "    b.grad.zero_()\n",
    "    \n",
    "    # Здесь рисуются красивые графики\n",
    "    if i % 5==0:\n",
    "        clear_output(True)\n",
    "        plt.axhline(0, color='gray')\n",
    "        plt.axvline(0, color='gray')\n",
    "        plt.scatter(x.numpy(), y.numpy())\n",
    "        plt.plot(x.numpy(), y_pred.data.numpy(),color='orange')\n",
    "        plt.show()\n",
    "\n",
    "        print(\"loss = \", loss.item())\n",
    "        if loss.item() < 0.5:\n",
    "            print(\"Done!\")\n",
    "            break"
   ]
  },
  {
   "cell_type": "markdown",
   "metadata": {
    "colab_type": "text",
    "id": "DiEVpQBQY8yE"
   },
   "source": [
    "# Optimizers\n",
    "\n",
    "В этом примере мы пользовались простым правилом для градиентного спуска:\n",
    "  \n",
    "$$W^{n+1} = W^{n} - \\alpha \\nabla_{{W^n}}L$$\n",
    "\n",
    "\n",
    "Единственным параметром в нем является $\\alpha$ -- это `learning_rate`.\n",
    "\n",
    "На практике часто используют различные модификации (например [Adam](https://machinelearningmastery.com/adam-optimization-algorithm-for-deep-learning/) ):\n",
    "\n",
    "Хороший обзор алгоритмов оптимизации для сетей можно посмотреть [тут](http://ruder.io/optimizing-gradient-descent/).\n",
    "\n",
    "\n",
    "Оптимизаторы удобны в использовании:\n",
    "\n",
    "- требуется указать список переменных для оптимизации\n",
    "- `opt.step()` обновляет веса\n",
    "- `opt.zero_grad()` сбрасывает градиенты\n",
    "\n",
    "\n",
    "\n"
   ]
  },
  {
   "cell_type": "code",
   "execution_count": 18,
   "metadata": {
    "colab": {},
    "colab_type": "code",
    "id": "crmZenu4Y8yF"
   },
   "outputs": [
    {
     "data": {
      "image/png": "[encoded data removed]",
      "text/plain": [
       "<Figure size 432x288 with 1 Axes>"
      ]
     },
     "metadata": {},
     "output_type": "display_data"
    },
    {
     "name": "stdout",
     "output_type": "stream",
     "text": [
      "loss =  0.49178755283355713\n",
      "Done!\n"
     ]
    },
    {
     "name": "stderr",
     "output_type": "stream",
     "text": [
      "\n"
     ]
    }
   ],
   "source": [
    "w = torch.zeros(1, requires_grad=True)\n",
    "b = torch.zeros(1, requires_grad=True)\n",
    "\n",
    "optim = torch.optim.Adam([w, b], lr=0.1)\n",
    "\n",
    "for i in tqdm.tqdm(range(200)):\n",
    "    \n",
    "    y_pred = w * x  + b\n",
    "    loss = MSE(y_pred, y)\n",
    "    \n",
    "    loss.backward()\n",
    "    \n",
    "    # Делаем градиентный шаг для параметров модели\n",
    "    optim.step()\n",
    "    optim.zero_grad()\n",
    "    \n",
    "    # Здесь рисуются красивые графики\n",
    "    if i % 5==0:\n",
    "        clear_output(True)\n",
    "        plt.axhline(0, color='gray')\n",
    "        plt.axvline(0, color='gray')\n",
    "        plt.scatter(x.numpy(), y.numpy())\n",
    "        plt.plot(x.numpy(), y_pred.data.numpy(),color='orange')\n",
    "        plt.show()\n",
    "\n",
    "        print(\"loss = \", loss.item())\n",
    "        if loss.item() < 0.5:\n",
    "            print(\"Done!\")\n",
    "            break"
   ]
  },
  {
   "cell_type": "markdown",
   "metadata": {
    "colab_type": "text",
    "collapsed": true,
    "id": "8qoOsLGuY8yK"
   },
   "source": [
    "## Highlevel-API \n",
    "\n",
    "При переходе от одномерной линейной регрессии к более сложным моделям становится очень неудобно держать все переменные в голове, определять каждый слой отдельно и все такое. \n",
    "\n",
    "Главное приемущество Pytorch - его высокоуровневый [API](http://pytorch.org/docs/master/nn.html#torch.nn.Module), с помощью которого можно легко определить почти любую сеть\n",
    "\n",
    "Чтобы воспользоваться моделью необходимо отнаследоваться от torch.nn.Module, определить слои и описать `forward`. `backward` и остальное - будут вычислены автоматически.\n"
   ]
  },
  {
   "cell_type": "code",
   "execution_count": 32,
   "metadata": {
    "colab": {},
    "colab_type": "code",
    "id": "pP-mINCsY8yL"
   },
   "outputs": [
    {
     "data": {
      "image/png": "[encoded data removed]",
      "text/plain": [
       "<Figure size 720x720 with 10 Axes>"
      ]
     },
     "metadata": {},
     "output_type": "display_data"
    }
   ],
   "source": [
    "# MNIST again\n",
    "from sklearn.datasets import load_digits\n",
    "from sklearn.model_selection import train_test_split\n",
    "\n",
    "X, y = load_digits(return_X_y=True)\n",
    "X_train, X_val, y_train, y_val = train_test_split(X, y, test_size=0.25, random_state=2)\n",
    "\n",
    "plt.figure(figsize=(10, 10))\n",
    "for index, (image, label) in enumerate(zip(X_train[:10], y_train[:10])):\n",
    "    plt.subplot(5, 5, index + 1)\n",
    "    plt.imshow(image.reshape(8, 8))\n",
    "    plt.yticks([])\n",
    "    plt.xticks([])\n",
    "    plt.title(str(label))\n",
    "plt.show()"
   ]
  },
  {
   "cell_type": "code",
   "execution_count": 52,
   "metadata": {
    "colab": {},
    "colab_type": "code",
    "id": "cPDAygXbY8yQ"
   },
   "outputs": [],
   "source": [
    "# Высокоуровневое определение сети\n",
    "\n",
    "import torch.nn as nn\n",
    "import torch.nn.functional as F\n",
    "\n",
    "class Net(nn.Module):\n",
    "    def __init__(self, input_size=64, hidden_size=32, output_size=10):\n",
    "        super(Net, self).__init__()\n",
    "        # Здесь надо определить все слои которые будут у модели, в каждом указать размер входа и выхода\n",
    "        self.fc1 = nn.Linear(input_size, hidden_size)\n",
    "        self.fc2 = nn.Linear(hidden_size, hidden_size)\n",
    "        self.fc3 = nn.Linear(hidden_size, output_size)\n",
    "        \n",
    "    def forward(self, x):\n",
    "        x = x.float()\n",
    "        # Здесь надо определить в каком порядке применяются слои к данным\n",
    "        x = F.relu(self.fc1(x))\n",
    "        x = F.relu(self.fc2(x))\n",
    "        x = self.fc3(x)\n",
    "        # Софтмакс чтобы посчитать вероятности каждого класса\n",
    "        return F.softmax(x, dim=-1)\n"
   ]
  },
  {
   "cell_type": "markdown",
   "metadata": {},
   "source": [
    "Раз уж мы начали работать с высокоуровневым API, стоит упомянуть про DataLoader и Dataset"
   ]
  },
  {
   "cell_type": "code",
   "execution_count": 63,
   "metadata": {},
   "outputs": [],
   "source": [
    "from torch.utils.data import DataLoader, Dataset\n",
    "\n",
    "# Этот класс будет использоваться для того чтобы итерироваться по данным\n",
    "class DigitSet(Dataset):\n",
    "    def __init__(self, x, y):\n",
    "        # Здесь просто сохраним аргументы x и y\n",
    "        self.x = x\n",
    "        self.y = y\n",
    "        \n",
    "    def __len__(self):\n",
    "        # Чтобы итератор знал какого размера наш датасет (какие индексы запрашивать)\n",
    "        return len(self.x)\n",
    "    \n",
    "    def __getitem__(self, index):\n",
    "        # Итерируясь по датасету, мы вызываем эту функцию с разными индексами\n",
    "        return self.x[index], self.y[index]\n",
    "    "
   ]
  },
  {
   "cell_type": "code",
   "execution_count": 54,
   "metadata": {},
   "outputs": [
    {
     "name": "stdout",
     "output_type": "stream",
     "text": [
      "image: (64,)\n",
      "label: 3\n"
     ]
    }
   ],
   "source": [
    "mnist_set = DigitSet(X_train, y_train)\n",
    "image, label = next(iter(mnist_set))\n",
    "print('image:', image.shape)\n",
    "print('label:', label)"
   ]
  },
  {
   "cell_type": "code",
   "execution_count": 55,
   "metadata": {},
   "outputs": [
    {
     "name": "stdout",
     "output_type": "stream",
     "text": [
      "image: torch.Size([32, 64])\n",
      "label: tensor([3, 0, 4, 3, 6, 6, 1, 9, 6, 3, 4, 6, 4, 6, 7, 2, 7, 6, 3, 0, 3, 0, 1, 3,\n",
      "        6, 8, 0, 4, 3, 8, 4, 3])\n"
     ]
    }
   ],
   "source": [
    "# DataLoader - удобная обертка над Dataset, позволяющая итерироваться батчами\n",
    "train_loader = DataLoader(mnist_set, batch_size=32)\n",
    "\n",
    "image, label = next(iter(train_loader))\n",
    "print('image:', image.shape)\n",
    "print('label:', label)"
   ]
  },
  {
   "cell_type": "code",
   "execution_count": 56,
   "metadata": {
    "colab": {},
    "colab_type": "code",
    "id": "BSuPd8FrY8yU"
   },
   "outputs": [
    {
     "name": "stdout",
     "output_type": "stream",
     "text": [
      "Model outputs: \n",
      " torch.Size([32, 10])\n",
      "Pred: \n",
      " [7 4 4 7 4 4 7 4 4 2 4 4 4 4 4 2 7 1 7 4 2 4 7 7 4 1 4 4 7 1 7 2]\n",
      "Truth: \n",
      " [3 0 4 3 6 6 1 9 6 3 4 6 4 6 7 2 7 6 3 0 3 0 1 3 6 8 0 4 3 8 4 3]\n"
     ]
    }
   ],
   "source": [
    "# Создаем экземпляр класса, который мы описали сверху\n",
    "model = Net()\n",
    "prediction = model(batch[0])\n",
    "\n",
    "print('Model outputs: \\n', prediction.shape)\n",
    "\n",
    "print('Pred: \\n', torch.max(prediction, dim=1)[1].numpy())\n",
    "print('Truth: \\n', batch[1].numpy())"
   ]
  },
  {
   "cell_type": "markdown",
   "metadata": {
    "colab_type": "text",
    "id": "J9v9SIlDY8yZ"
   },
   "source": [
    "Тренировка сети\n",
    "\n",
    "Для тренировки сети нам требуется \n",
    "- итератор по данным -> DataLoader\n",
    "- функция тренировки (прогон по данным, вычисление и применение градиентов)\n",
    "- функция валидации (прогон по тестовым данным, вычисление метрик)"
   ]
  },
  {
   "cell_type": "code",
   "execution_count": 57,
   "metadata": {
    "colab": {},
    "colab_type": "code",
    "id": "qS8wn1JzY8yg"
   },
   "outputs": [],
   "source": [
    "# кросс-энтропия\n",
    "criterion = torch.nn.CrossEntropyLoss()\n",
    "\n",
    "def train(x, y, optimizer, model, batchsize=32):\n",
    "    losses = []\n",
    "    model.train()\n",
    "    loader = DataLoader(DigitSet(x, y), batch_size=batchsize)\n",
    "    for x_batch, y_batch in loader:\n",
    "        optimizer.zero_grad()\n",
    "        output = model(x_batch)\n",
    "        loss = criterion(output, y_batch)\n",
    "        loss.backward()\n",
    "        optimizer.step()\n",
    "        losses.append(loss.item())\n",
    "    return losses\n",
    "\n",
    "def test(x, y, model, batchsize=1):\n",
    "    losses = []\n",
    "    model.eval()\n",
    "    loader = DataLoader(DigitSet(x, y), batch_size=batchsize)\n",
    "    for x_batch, y_batch in loader:\n",
    "        output = model(x_batch)\n",
    "        loss = criterion(output, y_batch)\n",
    "        losses.append(loss.item())\n",
    "    return losses\n",
    "\n"
   ]
  },
  {
   "cell_type": "code",
   "execution_count": 58,
   "metadata": {
    "colab": {},
    "colab_type": "code",
    "id": "8vbRTCJmY8yk"
   },
   "outputs": [],
   "source": [
    "def plot_history(index, train_history, val_history, title='loss'):\n",
    "    plt.figure(figsize=(10, 10))\n",
    "    plt.plot(train_history, label='train loss')\n",
    "    plt.scatter([i*(len(X_train)//32) for i in range(index+1)], val_history, c='r', marker='o', label='test mean loss')\n",
    "    plt.legend()\n",
    "    plt.show()"
   ]
  },
  {
   "cell_type": "code",
   "execution_count": 59,
   "metadata": {
    "colab": {},
    "colab_type": "code",
    "id": "ZWEroE1_Y8yo"
   },
   "outputs": [
    {
     "data": {
      "image/png": "[encoded data removed]",
      "text/plain": [
       "<Figure size 720x720 with 1 Axes>"
      ]
     },
     "metadata": {
      "needs_background": "light"
     },
     "output_type": "display_data"
    }
   ],
   "source": [
    "train_log = []\n",
    "val_log = []\n",
    "\n",
    "model = Net()\n",
    "opt = torch.optim.Adam(model.parameters(), lr=0.001)\n",
    "batchsize = 32\n",
    "\n",
    "for epoch in range(20):\n",
    "    train_loss = train(X_train, y_train, opt, model, batchsize=batchsize)\n",
    "    train_log.extend(train_loss)\n",
    "    val_log.append(np.mean(test(X_val, y_val, model)))\n",
    "    clear_output(True)\n",
    "    plot_history(epoch, train_log, val_log)"
   ]
  },
  {
   "cell_type": "markdown",
   "metadata": {},
   "source": [
    "#### Задание:\n",
    "\n",
    "Подсчитать accuracy модели на тестовой выборке (округляйте предсказания по 0.5)"
   ]
  },
  {
   "cell_type": "code",
   "execution_count": 71,
   "metadata": {},
   "outputs": [],
   "source": [
    "from sklearn.metrics import accuracy_score\n",
    "\n",
    "preds, labels = [], []\n",
    "model.eval()\n",
    "loader = DigitSet(X_val, y_val)\n",
    "for x_batch, y_batch in loader:\n",
    "    output = model(torch.Tensor(x_batch).unsqueeze(0))\n",
    "    preds.append(torch.max(output, dim=1)[1].item())\n",
    "    labels.append(y_batch.item())\n",
    "print('accuracy_score: ', accuracy_score(preds, labels))"
   ]
  },
  {
   "cell_type": "code",
   "execution_count": null,
   "metadata": {},
   "outputs": [],
   "source": []
  }
 ],
 "metadata": {
  "accelerator": "GPU",
  "colab": {
   "collapsed_sections": [],
   "name": "DL19_seminar2.ipynb",
   "provenance": [],
   "version": "0.3.2"
  },
  "kernelspec": {
   "display_name": "Python 3",
   "language": "python",
   "name": "python3"
  },
  "language_info": {
   "codemirror_mode": {
    "name": "ipython",
    "version": 3
   },
   "file_extension": ".py",
   "mimetype": "text/x-python",
   "name": "python",
   "nbconvert_exporter": "python",
   "pygments_lexer": "ipython3",
   "version": "3.8.3"
  }
 },
 "nbformat": 4,
 "nbformat_minor": 1
}
